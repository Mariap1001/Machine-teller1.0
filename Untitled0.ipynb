{
  "nbformat": 4,
  "nbformat_minor": 0,
  "metadata": {
    "colab": {
      "provenance": []
    },
    "kernelspec": {
      "name": "python3",
      "display_name": "Python 3"
    },
    "language_info": {
      "name": "python"
    }
  },
  "cells": [
    {
      "cell_type": "markdown",
      "source": [
        "#TALLER 1\n",
        "##MACHINE"
      ],
      "metadata": {
        "id": "YdvssP8CAiY-"
      }
    },
    {
      "cell_type": "code",
      "source": [
        "def suma_div (a:int , b:int, c:int):\n",
        "  if type(a) == int and type(b) == int and type(c) == int:\n",
        "    suma = a + b\n",
        "    if c == 0:\n",
        "      print(f\"El numero {c} no puede ser 0\")\n",
        "    else:\n",
        "      div = suma / c\n",
        "      print (div)\n",
        "  else:\n",
        "    print(f\"los datos ingresados deben ser enteros\")"
      ],
      "metadata": {
        "id": "_p7X0JSQ2DY6"
      },
      "execution_count": 38,
      "outputs": []
    },
    {
      "cell_type": "code",
      "source": [
        "suma_div (10,\"b\",6)"
      ],
      "metadata": {
        "colab": {
          "base_uri": "https://localhost:8080/"
        },
        "id": "6fQHu05A4zzB",
        "outputId": "8a5d83da-bfbb-4432-f1f6-1600ff3dd2eb"
      },
      "execution_count": 41,
      "outputs": [
        {
          "output_type": "stream",
          "name": "stdout",
          "text": [
            "los datos ingresados deben ser enteros\n"
          ]
        }
      ]
    },
    {
      "cell_type": "code",
      "source": [],
      "metadata": {
        "id": "qm9mQ9-E_5H-"
      },
      "execution_count": null,
      "outputs": []
    }
  ]
}